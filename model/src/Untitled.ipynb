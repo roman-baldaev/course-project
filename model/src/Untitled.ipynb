{
 "cells": [
  {
   "cell_type": "code",
   "execution_count": 39,
   "metadata": {},
   "outputs": [
    {
     "data": {
      "image/png": "[encoded data removed]",
      "text/plain": [
       "<matplotlib.figure.Figure at 0x7f6b97a81a58>"
      ]
     },
     "metadata": {},
     "output_type": "display_data"
    },
    {
     "name": "stdout",
     "output_type": "stream",
     "text": [
      "1.01102417472\n"
     ]
    }
   ],
   "source": [
    "import numpy as np\n",
    "import matplotlib.pyplot as plt\n",
    "\n",
    "def get_law(law_name):\n",
    "    \n",
    "    law = getattr(np.random, law_name)\n",
    "    return law\n",
    "law_norm = get_law(\"normal\")\n",
    "values = law_norm(0,1, (100000))\n",
    "plt.hist(values, bins=100)\n",
    "plt.show()\n",
    "print(np.var(values))"
   ]
  },
  {
   "cell_type": "code",
   "execution_count": 45,
   "metadata": {},
   "outputs": [
    {
     "name": "stdout",
     "output_type": "stream",
     "text": [
      "Here\n",
      "Here 1 parameter\n",
      "1\n",
      "Here\n",
      "Here 1 parameter\n",
      "1\n",
      "Here\n",
      "Here 1 parameter\n",
      "1\n",
      "Here\n",
      "Here 1 parameter\n",
      "1\n",
      "Here\n",
      "Here 1 parameter\n",
      "1\n",
      "Here\n",
      "Here 1 parameter\n",
      "1\n",
      "Here\n",
      "Here 1 parameter\n",
      "1\n",
      "Here\n",
      "Here 1 parameter\n",
      "1\n",
      "Here\n",
      "Here 1 parameter\n",
      "1\n",
      "Here\n",
      "Here 1 parameter\n",
      "1\n"
     ]
    }
   ],
   "source": [
    "def generator_law(*args):\n",
    "    print(\"Here\")\n",
    "    if len(args) == 1:\n",
    "        print(\"Here 1 parameter\")\n",
    "        yield 1\n",
    "    else:\n",
    "        print(\"Here 2 parameters\")\n",
    "        yield 2\n",
    "for i in range(10):\n",
    "    print(next(generator_law(1)))"
   ]
  },
  {
   "cell_type": "code",
   "execution_count": null,
   "metadata": {},
   "outputs": [],
   "source": []
  }
 ],
 "metadata": {
  "kernelspec": {
   "display_name": "Python 3",
   "language": "python",
   "name": "python3"
  },
  "language_info": {
   "codemirror_mode": {
    "name": "ipython",
    "version": 3
   },
   "file_extension": ".py",
   "mimetype": "text/x-python",
   "name": "python",
   "nbconvert_exporter": "python",
   "pygments_lexer": "ipython3",
   "version": "3.5.4"
  }
 },
 "nbformat": 4,
 "nbformat_minor": 2
}
